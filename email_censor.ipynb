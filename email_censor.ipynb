{
 "cells": [
  {
   "cell_type": "markdown",
   "metadata": {},
   "source": [
    "#### we have four emails that need to be censered.\n",
    "\n",
    "using The open() function is opening the text file that the emails are contained in and the \n",
    ".read() method is allowing us to save their contexts to the following variables:"
   ]
  },
  {
   "cell_type": "code",
   "execution_count": 2,
   "metadata": {},
   "outputs": [],
   "source": [
    "\n",
    "email_one = open(\"email_one.txt\", \"r\").read()\n",
    "email_two = open(\"email_two.txt\", \"r\").read()\n",
    "email_three = open(\"email_three.txt\", \"r\").read()\n",
    "email_four = open(\"email_four.txt\", \"r\").read()\n"
   ]
  },
  {
   "cell_type": "markdown",
   "metadata": {},
   "source": [
    "Write a function that can censor a specific word or phrase from a body of text, and then return the text.\n",
    "we have been asked to use the function to censor all instances of the phrase \"learning algorithms\" from the first email, email_one.the Manager doesn’t care how we censor it, he just wants it done."
   ]
  },
  {
   "cell_type": "code",
   "execution_count": 5,
   "metadata": {},
   "outputs": [],
   "source": [
    "def censor_one(input_text, censor):\n",
    "  censored_item = \"\"\n",
    "  for x in range(0,len(censor)):\n",
    "    if censor[x] == \" \":\n",
    "      censored_item = censored_item + \" \"\n",
    "    else:\n",
    "    \tcensored_item = censored_item + \"X\"\n",
    "  return input_text.replace(censor, censored_item)\n",
    "\n",
    "#print(censor_one(email_one, \"learning algorithm\"))"
   ]
  },
  {
   "cell_type": "markdown",
   "metadata": {},
   "source": [
    "Write a function that can censor not just a specific word or phrase from a body of text, but a whole list of words and phrases, and then return the text.\n",
    "\n",
    "from email_two"
   ]
  },
  {
   "cell_type": "code",
   "execution_count": null,
   "metadata": {},
   "outputs": [],
   "source": []
  }
 ],
 "metadata": {
  "kernelspec": {
   "display_name": "Python 3.6.10 64-bit ('PythonData': conda)",
   "language": "python",
   "name": "python361064bitpythondataconda78ac61cb7ad5453197bfca4731d0b634"
  },
  "language_info": {
   "codemirror_mode": {
    "name": "ipython",
    "version": 3
   },
   "file_extension": ".py",
   "mimetype": "text/x-python",
   "name": "python",
   "nbconvert_exporter": "python",
   "pygments_lexer": "ipython3",
   "version": "3.6.10"
  }
 },
 "nbformat": 4,
 "nbformat_minor": 4
}
